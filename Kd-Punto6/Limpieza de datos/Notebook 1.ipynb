{
  "cells": [
    {
      "cell_type": "code",
      "metadata": {
        "source_hash": "9b82ee11",
        "execution_start": 1745187004354,
        "execution_millis": 0,
        "execution_context_id": "7c9cc887-f439-448c-b8b4-1eb7a14311be",
        "cell_id": "351b14a81beb43b5aa191364be9efb49",
        "deepnote_cell_type": "code"
      },
      "source": "import pandas as pd",
      "block_group": "351b14a81beb43b5aa191364be9efb49",
      "execution_count": 1,
      "outputs": [],
      "outputs_reference": null,
      "content_dependencies": null
    },
    {
      "cell_type": "code",
      "metadata": {
        "source_hash": "f20c2a57",
        "execution_start": 1745187004404,
        "execution_millis": 219,
        "execution_context_id": "7c9cc887-f439-448c-b8b4-1eb7a14311be",
        "cell_id": "e1ef184819dd45b4882e42d20835d263",
        "deepnote_cell_type": "code"
      },
      "source": "df = pd.read_csv(\"/work/BKB_WaterQualityData_2020084.csv\")\n\ndf",
      "block_group": "ec1d40b98d6143b8985a0b10dff9ccf3",
      "execution_count": 2,
      "outputs": [],
      "outputs_reference": null,
      "content_dependencies": null
    },
    {
      "cell_type": "code",
      "metadata": {
        "source_hash": "de1e323c",
        "execution_start": 1745187004674,
        "execution_millis": 1,
        "execution_context_id": "7c9cc887-f439-448c-b8b4-1eb7a14311be",
        "cell_id": "58e5ec4da35d43c1b9d98a0abd3d46b0",
        "deepnote_cell_type": "code"
      },
      "source": "df.info()",
      "block_group": "01987b59c03240a2bb3af9b05db90d3d",
      "execution_count": 3,
      "outputs": [],
      "outputs_reference": null,
      "content_dependencies": null
    },
    {
      "cell_type": "code",
      "metadata": {
        "source_hash": "6c4f2885",
        "execution_start": 1745187004724,
        "execution_millis": 0,
        "execution_context_id": "7c9cc887-f439-448c-b8b4-1eb7a14311be",
        "cell_id": "ce18d771a1f049eba1134a18a4234dcf",
        "deepnote_cell_type": "code"
      },
      "source": "df[\"Site_Id\"] = df[\"Site_Id\"].replace(\"d\",\"D\")",
      "block_group": "70e87eed9d2d4f7286802452d5327425",
      "execution_count": 4,
      "outputs": [],
      "outputs_reference": null,
      "content_dependencies": null
    },
    {
      "cell_type": "code",
      "metadata": {
        "source_hash": "a4f565b7",
        "execution_start": 1745187004775,
        "execution_millis": 0,
        "execution_context_id": "7c9cc887-f439-448c-b8b4-1eb7a14311be",
        "cell_id": "74b943b7d4684a1ca15cf5ba27be2158",
        "deepnote_cell_type": "code"
      },
      "source": "proporciones = df[\"Site_Id\"].value_counts()/len(df)*300\nproporciones",
      "block_group": "824f5ef3827849a1a6d93bc609c90b39",
      "execution_count": 5,
      "outputs": [],
      "outputs_reference": null,
      "content_dependencies": null
    },
    {
      "cell_type": "code",
      "metadata": {
        "source_hash": "5e8625dd",
        "execution_start": 1745187004824,
        "execution_millis": 1,
        "execution_context_id": "7c9cc887-f439-448c-b8b4-1eb7a14311be",
        "cell_id": "9ad3e4d47e93431a862811e6becda3d5",
        "deepnote_cell_type": "code"
      },
      "source": "df = df.drop([\"Unit_Id\", \"Time (24:00)\",\"Field_Tech\",\"DateVerified\",\"WhoVerified\", \"Read_Date\", \"Air Temp-Celsius\"], axis=1)",
      "block_group": "22d52c293f6d49409329d4b69bfc5b57",
      "execution_count": 6,
      "outputs": [],
      "outputs_reference": null,
      "content_dependencies": null
    },
    {
      "cell_type": "code",
      "metadata": {
        "source_hash": "e76d06aa",
        "execution_start": 1745187004874,
        "execution_millis": 2,
        "deepnote_table_state": {
          "sortBy": [],
          "filters": [],
          "pageSize": 10,
          "pageIndex": 0,
          "columnOrder": [
            "Site_Id",
            "Salinity (ppt)",
            "Dissolved Oxygen (mg/L)",
            "pH (standard units)",
            "Secchi Depth (m)",
            "Water Depth (m)",
            "Water Temp (?C)",
            "Air Temp (?F)",
            "AirTemp (C)",
            "Year"
          ],
          "hiddenColumnIds": [],
          "columnDisplayNames": [],
          "conditionalFilters": [],
          "cellFormattingRules": [],
          "wrappedTextColumnIds": []
        },
        "execution_context_id": "7c9cc887-f439-448c-b8b4-1eb7a14311be",
        "deepnote_table_loading": false,
        "cell_id": "cb30ebc816e848fea6c6fdadf86fcd57",
        "deepnote_cell_type": "code"
      },
      "source": "df_2 = df.dropna()\ndf_2",
      "block_group": "36dd3ba7ca1e4f828ad240b9e7794da6",
      "execution_count": 7,
      "outputs": [],
      "outputs_reference": null,
      "content_dependencies": null
    },
    {
      "cell_type": "code",
      "metadata": {
        "source_hash": "46a3a4e9",
        "execution_start": 1745187004934,
        "execution_millis": 0,
        "execution_context_id": "7c9cc887-f439-448c-b8b4-1eb7a14311be",
        "cell_id": "b016dc1a63314568974aeaeabd8d8199",
        "deepnote_cell_type": "code"
      },
      "source": "df_2.info()",
      "block_group": "74720cffc3b14de89aa6dfdacb8615a9",
      "execution_count": 8,
      "outputs": [],
      "outputs_reference": null,
      "content_dependencies": null
    },
    {
      "cell_type": "code",
      "metadata": {
        "source_hash": "361d52ab",
        "execution_start": 1745187004984,
        "execution_millis": 0,
        "execution_context_id": "7c9cc887-f439-448c-b8b4-1eb7a14311be",
        "cell_id": "15489bc6346646eb8363224123836fa9",
        "deepnote_cell_type": "code"
      },
      "source": "proporciones = dict(proporciones)",
      "block_group": "2709156630164fe3a54d5bd517c835f4",
      "execution_count": 9,
      "outputs": [],
      "outputs_reference": null,
      "content_dependencies": null
    },
    {
      "cell_type": "code",
      "metadata": {
        "source_hash": "4d164e29",
        "execution_start": 1745187005035,
        "execution_millis": 0,
        "execution_context_id": "7c9cc887-f439-448c-b8b4-1eb7a14311be",
        "cell_id": "61b2762d523246bd9efb006bcc4af4f8",
        "deepnote_cell_type": "code"
      },
      "source": "muestras = []\nfor i in proporciones.keys():\n    muestras.append(df_2[df_2['Site_Id'] == i].sample(n=int(proporciones[i])+1, random_state=42))\n\n# 4. Unir las dos muestras\nmuestra_final = pd.concat(muestras, ignore_index=True)\n\nmuestra_final['Site_Id'].value_counts()",
      "block_group": "fc7f1c8b9ba745299ee716ed1b6247ed",
      "execution_count": 10,
      "outputs": [],
      "outputs_reference": null,
      "content_dependencies": null
    },
    {
      "cell_type": "code",
      "metadata": {
        "source_hash": "d01cca49",
        "execution_start": 1745187005095,
        "execution_millis": 1,
        "deepnote_table_state": {
          "sortBy": [],
          "filters": [],
          "pageSize": 25,
          "pageIndex": 0,
          "columnOrder": [
            "Site_Id",
            "Salinity (ppt)",
            "Dissolved Oxygen (mg/L)",
            "pH (standard units)",
            "Secchi Depth (m)",
            "Water Depth (m)",
            "Water Temp (?C)",
            "Air Temp (?F)",
            "AirTemp (C)",
            "Year"
          ],
          "hiddenColumnIds": [],
          "columnDisplayNames": [],
          "conditionalFilters": [],
          "cellFormattingRules": [],
          "wrappedTextColumnIds": []
        },
        "execution_context_id": "7c9cc887-f439-448c-b8b4-1eb7a14311be",
        "deepnote_table_loading": false,
        "cell_id": "0c7134c59b414e29a0073c89797f15df",
        "deepnote_cell_type": "code"
      },
      "source": "muestra_final.info()",
      "block_group": "7271d2f1307b43899bda8313294a71c2",
      "execution_count": 11,
      "outputs": [],
      "outputs_reference": null,
      "content_dependencies": null
    },
    {
      "cell_type": "code",
      "metadata": {
        "source_hash": "9074978a",
        "execution_start": 1745187005155,
        "execution_millis": 2,
        "deepnote_table_state": {
          "sortBy": [],
          "filters": [],
          "pageSize": 50,
          "pageIndex": 0,
          "columnOrder": [
            "Site_Id",
            "Salinity (ppt)",
            "Dissolved Oxygen (mg/L)",
            "pH (standard units)",
            "Secchi Depth (m)",
            "Water Depth (m)",
            "Water Temp (?C)",
            "Air Temp (?F)",
            "AirTemp (C)",
            "Year"
          ],
          "hiddenColumnIds": [],
          "columnDisplayNames": [],
          "conditionalFilters": [],
          "cellFormattingRules": [],
          "wrappedTextColumnIds": []
        },
        "execution_context_id": "7c9cc887-f439-448c-b8b4-1eb7a14311be",
        "deepnote_table_loading": false,
        "cell_id": "f0406eeb77364cb69aafcaa24b12304b",
        "deepnote_cell_type": "code"
      },
      "source": "muestra_final",
      "block_group": "7ec916abdab243cdb1a8b0ad9054e100",
      "execution_count": 12,
      "outputs": [],
      "outputs_reference": null,
      "content_dependencies": null
    },
    {
      "cell_type": "code",
      "metadata": {
        "source_hash": "aebda3cf",
        "execution_start": 1745187067204,
        "execution_millis": 159,
        "execution_context_id": "7c9cc887-f439-448c-b8b4-1eb7a14311be",
        "cell_id": "6f2efc2c62404dfca0e8d5cf9980463d",
        "deepnote_cell_type": "code"
      },
      "source": "muestra_final.to_csv(\"Data\")",
      "block_group": "288e2c6ca20c4f738699ba0ba7ec5633",
      "execution_count": 19,
      "outputs": [],
      "outputs_reference": null,
      "content_dependencies": null
    },
    {
      "cell_type": "markdown",
      "source": "<a style='text-decoration:none;line-height:16px;display:flex;color:#5B5B62;padding:10px;justify-content:end;' href='https://deepnote.com?utm_source=created-in-deepnote-cell&projectId=405e11bf-4ccd-4c99-bb69-c9e285b9c874' target=\"_blank\">\n<img alt='Created in deepnote.com' style='display:inline;max-height:16px;margin:0px;margin-right:7.5px;' src='data:image/svg+xml;base64,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' > </img>\nCreated in <span style='font-weight:600;margin-left:4px;'>Deepnote</span></a>",
      "metadata": {
        "created_in_deepnote_cell": true,
        "deepnote_cell_type": "markdown"
      }
    }
  ],
  "nbformat": 4,
  "nbformat_minor": 0,
  "metadata": {
    "deepnote_persisted_session": {
      "createdAt": "2025-04-20T22:30:48.693Z"
    },
    "deepnote_notebook_id": "90c7b507f7374b89a690aa6d69c4fccd"
  }
}